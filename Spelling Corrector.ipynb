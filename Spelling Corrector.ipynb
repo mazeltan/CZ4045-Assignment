{
 "cells": [
  {
   "cell_type": "code",
   "execution_count": 3,
   "id": "4db0ecb8",
   "metadata": {},
   "outputs": [],
   "source": [
    "import re\n",
    "\n",
    "import nltk\n",
    "from nltk.tokenize.treebank import TreebankWordDetokenizer\n",
    "from nltk.corpus import stopwords\n",
    "\n",
    "import gensim\n",
    "from gensim.utils import simple_preprocess\n",
    "\n",
    "import pandas as pd\n",
    "\n",
    "import warnings\n",
    "warnings.filterwarnings('ignore')"
   ]
  },
  {
   "cell_type": "code",
   "execution_count": null,
   "id": "42c1a9c1",
   "metadata": {},
   "outputs": [],
   "source": [
    "#Please pip install pyspellchecker\n",
    "#!pip install pyspellchecker"
   ]
  },
  {
   "cell_type": "markdown",
   "id": "71bb7191",
   "metadata": {},
   "source": [
    "# Import dataset"
   ]
  },
  {
   "cell_type": "code",
   "execution_count": 9,
   "id": "764771d4",
   "metadata": {},
   "outputs": [
    {
     "data": {
      "text/html": [
       "<div>\n",
       "<style scoped>\n",
       "    .dataframe tbody tr th:only-of-type {\n",
       "        vertical-align: middle;\n",
       "    }\n",
       "\n",
       "    .dataframe tbody tr th {\n",
       "        vertical-align: top;\n",
       "    }\n",
       "\n",
       "    .dataframe thead th {\n",
       "        text-align: right;\n",
       "    }\n",
       "</style>\n",
       "<table border=\"1\" class=\"dataframe\">\n",
       "  <thead>\n",
       "    <tr style=\"text-align: right;\">\n",
       "      <th></th>\n",
       "      <th>Unnamed: 0</th>\n",
       "      <th>reviewId</th>\n",
       "      <th>userName</th>\n",
       "      <th>userImage</th>\n",
       "      <th>content</th>\n",
       "      <th>score</th>\n",
       "      <th>thumbsUpCount</th>\n",
       "      <th>reviewCreatedVersion</th>\n",
       "      <th>at</th>\n",
       "      <th>replyContent</th>\n",
       "      <th>repliedAt</th>\n",
       "      <th>is_english</th>\n",
       "      <th>label</th>\n",
       "    </tr>\n",
       "  </thead>\n",
       "  <tbody>\n",
       "    <tr>\n",
       "      <th>0</th>\n",
       "      <td>1</td>\n",
       "      <td>3577f7a1-3394-4e77-813d-095a82cf8bcf</td>\n",
       "      <td>Kemar Richardson</td>\n",
       "      <td>https://play-lh.googleusercontent.com/a-/ACNPE...</td>\n",
       "      <td>Great</td>\n",
       "      <td>5</td>\n",
       "      <td>0</td>\n",
       "      <td>26.3.4</td>\n",
       "      <td>10/4/2022 20:32</td>\n",
       "      <td>NaN</td>\n",
       "      <td>NaN</td>\n",
       "      <td>True</td>\n",
       "      <td>POSITIVE</td>\n",
       "    </tr>\n",
       "    <tr>\n",
       "      <th>1</th>\n",
       "      <td>2</td>\n",
       "      <td>7c8c56d9-d8ad-47d4-b24b-5289aa4529ff</td>\n",
       "      <td>Tracy Dunn</td>\n",
       "      <td>https://play-lh.googleusercontent.com/a/ALm5wu...</td>\n",
       "      <td>good</td>\n",
       "      <td>5</td>\n",
       "      <td>0</td>\n",
       "      <td>26.4.3</td>\n",
       "      <td>10/4/2022 20:31</td>\n",
       "      <td>NaN</td>\n",
       "      <td>NaN</td>\n",
       "      <td>True</td>\n",
       "      <td>POSITIVE</td>\n",
       "    </tr>\n",
       "    <tr>\n",
       "      <th>2</th>\n",
       "      <td>3</td>\n",
       "      <td>80db804f-cccd-4b09-b690-abc12cbf0612</td>\n",
       "      <td>SG. Mugo. (Mugoz:)</td>\n",
       "      <td>https://play-lh.googleusercontent.com/a-/ACNPE...</td>\n",
       "      <td>Good app</td>\n",
       "      <td>5</td>\n",
       "      <td>0</td>\n",
       "      <td>26.3.4</td>\n",
       "      <td>10/4/2022 20:30</td>\n",
       "      <td>NaN</td>\n",
       "      <td>NaN</td>\n",
       "      <td>True</td>\n",
       "      <td>POSITIVE</td>\n",
       "    </tr>\n",
       "    <tr>\n",
       "      <th>3</th>\n",
       "      <td>4</td>\n",
       "      <td>4ed35e90-0f45-4865-81c4-b3a6f2ea49f7</td>\n",
       "      <td>Mwansa Judy</td>\n",
       "      <td>https://play-lh.googleusercontent.com/a-/ACNPE...</td>\n",
       "      <td>Most amazing app</td>\n",
       "      <td>5</td>\n",
       "      <td>0</td>\n",
       "      <td>26.3.4</td>\n",
       "      <td>10/4/2022 20:29</td>\n",
       "      <td>NaN</td>\n",
       "      <td>NaN</td>\n",
       "      <td>True</td>\n",
       "      <td>POSITIVE</td>\n",
       "    </tr>\n",
       "    <tr>\n",
       "      <th>4</th>\n",
       "      <td>5</td>\n",
       "      <td>bd35bbe9-73c9-4e17-acaf-7aa1a71caed3</td>\n",
       "      <td>Muhammad Sajid</td>\n",
       "      <td>https://play-lh.googleusercontent.com/a-/ACNPE...</td>\n",
       "      <td>full Entertainment</td>\n",
       "      <td>4</td>\n",
       "      <td>0</td>\n",
       "      <td>25.9.4</td>\n",
       "      <td>10/4/2022 20:28</td>\n",
       "      <td>NaN</td>\n",
       "      <td>NaN</td>\n",
       "      <td>True</td>\n",
       "      <td>POSITIVE</td>\n",
       "    </tr>\n",
       "  </tbody>\n",
       "</table>\n",
       "</div>"
      ],
      "text/plain": [
       "   Unnamed: 0                              reviewId            userName  \\\n",
       "0           1  3577f7a1-3394-4e77-813d-095a82cf8bcf    Kemar Richardson   \n",
       "1           2  7c8c56d9-d8ad-47d4-b24b-5289aa4529ff          Tracy Dunn   \n",
       "2           3  80db804f-cccd-4b09-b690-abc12cbf0612  SG. Mugo. (Mugoz:)   \n",
       "3           4  4ed35e90-0f45-4865-81c4-b3a6f2ea49f7         Mwansa Judy   \n",
       "4           5  bd35bbe9-73c9-4e17-acaf-7aa1a71caed3      Muhammad Sajid   \n",
       "\n",
       "                                           userImage             content  \\\n",
       "0  https://play-lh.googleusercontent.com/a-/ACNPE...               Great   \n",
       "1  https://play-lh.googleusercontent.com/a/ALm5wu...                good   \n",
       "2  https://play-lh.googleusercontent.com/a-/ACNPE...            Good app   \n",
       "3  https://play-lh.googleusercontent.com/a-/ACNPE...    Most amazing app   \n",
       "4  https://play-lh.googleusercontent.com/a-/ACNPE...  full Entertainment   \n",
       "\n",
       "   score  thumbsUpCount reviewCreatedVersion               at replyContent  \\\n",
       "0      5              0               26.3.4  10/4/2022 20:32          NaN   \n",
       "1      5              0               26.4.3  10/4/2022 20:31          NaN   \n",
       "2      5              0               26.3.4  10/4/2022 20:30          NaN   \n",
       "3      5              0               26.3.4  10/4/2022 20:29          NaN   \n",
       "4      4              0               25.9.4  10/4/2022 20:28          NaN   \n",
       "\n",
       "  repliedAt  is_english     label  \n",
       "0       NaN        True  POSITIVE  \n",
       "1       NaN        True  POSITIVE  \n",
       "2       NaN        True  POSITIVE  \n",
       "3       NaN        True  POSITIVE  \n",
       "4       NaN        True  POSITIVE  "
      ]
     },
     "execution_count": 9,
     "metadata": {},
     "output_type": "execute_result"
    }
   ],
   "source": [
    "df = pd.read_csv('./df_english_labelled.csv', encoding='latin1') \n",
    "df.head()"
   ]
  },
  {
   "cell_type": "code",
   "execution_count": 10,
   "id": "4bbb8e7f",
   "metadata": {},
   "outputs": [],
   "source": [
    "df=df.astype(str)"
   ]
  },
  {
   "cell_type": "markdown",
   "id": "73097761",
   "metadata": {},
   "source": [
    "# Clean dataset"
   ]
  },
  {
   "cell_type": "code",
   "execution_count": 4,
   "id": "004d08a0",
   "metadata": {},
   "outputs": [],
   "source": [
    "def depure_data(data):\n",
    "    \n",
    "    #remove url with a RegEx\n",
    "    url_pattern = re.compile(r'https?://\\S+|www\\.\\S+')\n",
    "    data = url_pattern.sub(r'', data)\n",
    "\n",
    "    #remove email address\n",
    "    data = re.sub('\\S*@\\S*\\s?', '', data)\n",
    "\n",
    "    #remove new line characters\n",
    "    data = re.sub('\\s+', ' ', data)\n",
    "\n",
    "    #remove single quotes\n",
    "    data = re.sub(\"\\'\", \"\", data)\n",
    "        \n",
    "    return data\n",
    "\n",
    "\n",
    "def detokenize(text):\n",
    "    #treebank tokenizer uses RegEx to tokenize text as in Penn Treebank\n",
    "    return TreebankWordDetokenizer().detokenize(text)\n",
    "\n",
    "\n",
    "def sent_to_words(sentences):\n",
    "    for sentence in sentences:\n",
    "        #remove punctuations from sentences\n",
    "        yield(gensim.utils.simple_preprocess(str(sentence), deacc=True))\n",
    "        \n",
    "def correct_word_spelling(word):\n",
    "    word = Word(word)\n",
    "    result = word.correct()\n",
    "    return result"
   ]
  },
  {
   "cell_type": "code",
   "execution_count": 11,
   "id": "a64d7a87",
   "metadata": {},
   "outputs": [
    {
     "data": {
      "text/html": [
       "<div>\n",
       "<style scoped>\n",
       "    .dataframe tbody tr th:only-of-type {\n",
       "        vertical-align: middle;\n",
       "    }\n",
       "\n",
       "    .dataframe tbody tr th {\n",
       "        vertical-align: top;\n",
       "    }\n",
       "\n",
       "    .dataframe thead th {\n",
       "        text-align: right;\n",
       "    }\n",
       "</style>\n",
       "<table border=\"1\" class=\"dataframe\">\n",
       "  <thead>\n",
       "    <tr style=\"text-align: right;\">\n",
       "      <th></th>\n",
       "      <th>content</th>\n",
       "      <th>label</th>\n",
       "    </tr>\n",
       "  </thead>\n",
       "  <tbody>\n",
       "    <tr>\n",
       "      <th>0</th>\n",
       "      <td>Great</td>\n",
       "      <td>POSITIVE</td>\n",
       "    </tr>\n",
       "    <tr>\n",
       "      <th>1</th>\n",
       "      <td>good</td>\n",
       "      <td>POSITIVE</td>\n",
       "    </tr>\n",
       "    <tr>\n",
       "      <th>2</th>\n",
       "      <td>Good app</td>\n",
       "      <td>POSITIVE</td>\n",
       "    </tr>\n",
       "    <tr>\n",
       "      <th>3</th>\n",
       "      <td>Most amazing app</td>\n",
       "      <td>POSITIVE</td>\n",
       "    </tr>\n",
       "    <tr>\n",
       "      <th>4</th>\n",
       "      <td>full Entertainment</td>\n",
       "      <td>POSITIVE</td>\n",
       "    </tr>\n",
       "  </tbody>\n",
       "</table>\n",
       "</div>"
      ],
      "text/plain": [
       "              content     label\n",
       "0               Great  POSITIVE\n",
       "1                good  POSITIVE\n",
       "2            Good app  POSITIVE\n",
       "3    Most amazing app  POSITIVE\n",
       "4  full Entertainment  POSITIVE"
      ]
     },
     "execution_count": 11,
     "metadata": {},
     "output_type": "execute_result"
    }
   ],
   "source": [
    "train = df[['content','label']]\n",
    "train.head()"
   ]
  },
  {
   "cell_type": "markdown",
   "id": "fe37c0c9",
   "metadata": {},
   "source": [
    "### Remove new lines & single quotes"
   ]
  },
  {
   "cell_type": "code",
   "execution_count": 12,
   "id": "f46f20d9",
   "metadata": {},
   "outputs": [
    {
     "data": {
      "text/plain": [
       "['Great', 'good', 'Good app', 'Most amazing app', 'full Entertainment']"
      ]
     },
     "execution_count": 12,
     "metadata": {},
     "output_type": "execute_result"
    }
   ],
   "source": [
    "temp = []\n",
    "#split review content sentences to list\n",
    "data_to_list = train['content'].values.tolist()\n",
    "for i in range(len(data_to_list)):\n",
    "    temp.append(depure_data(data_to_list[i]))\n",
    "list(temp[:5])"
   ]
  },
  {
   "cell_type": "markdown",
   "id": "d5a8e573",
   "metadata": {},
   "source": [
    "### Remove punctuation & accent mark"
   ]
  },
  {
   "cell_type": "code",
   "execution_count": 13,
   "id": "d4a4d9b0",
   "metadata": {},
   "outputs": [
    {
     "name": "stdout",
     "output_type": "stream",
     "text": [
      "[['great'], ['good'], ['good', 'app'], ['most', 'amazing', 'app'], ['full', 'entertainment'], ['nice', 'app'], ['super', 'and', 'good', 'app'], ['tiktok', 'warning', 'and', 'video', 'views', 'problem', 'in', 'my', 'id', 'manimeraj', 'server', 'nepal', 'tiktok', 'down'], ['tiktok', 'is', 'nice', 'app'], ['need', 'my', 'tiktok', 'open', 'note']]\n",
      "99829\n"
     ]
    }
   ],
   "source": [
    "#tokenize sentences\n",
    "data_words = list(sent_to_words(temp))\n",
    "\n",
    "print(data_words[:10])\n",
    "print(len(data_words))"
   ]
  },
  {
   "cell_type": "markdown",
   "id": "7fbc456a",
   "metadata": {},
   "source": [
    "# Spelling Corrector"
   ]
  },
  {
   "cell_type": "code",
   "execution_count": 100,
   "id": "2be8c57a",
   "metadata": {},
   "outputs": [],
   "source": [
    "from textblob import TextBlob, Word\n",
    "from spellchecker import SpellChecker\n",
    "import re\n",
    "\n",
    "spell = SpellChecker()\n",
    "\n",
    "for i in range(len(data_words)):\n",
    "    sentence = data_words[i]    \n",
    "    for j in range(len(sentence)):\n",
    "        word = sentence[j]\n",
    "        \n",
    "        #use regex to reduce 3 consecutive letters to 2\n",
    "        reduced_word = re.sub(r'(.)\\1+', r'\\1\\1', word)\n",
    "        sentence[j] = reduced_word\n",
    "        \n",
    "        #if incorrect spelled, correct word\n",
    "        if sentence[j]!= \"tiktok\" and len(spell.unknown([sentence[j]]))>0:\n",
    "            sentence[j] = correct_word_spelling(sentence[j])"
   ]
  },
  {
   "cell_type": "markdown",
   "id": "b201e51e",
   "metadata": {},
   "source": [
    "### Combine each sentence list to a big list"
   ]
  },
  {
   "cell_type": "code",
   "execution_count": 101,
   "id": "b68bcab8",
   "metadata": {},
   "outputs": [
    {
     "name": "stdout",
     "output_type": "stream",
     "text": [
      "['great', 'good', 'good app', 'most amazing app', 'full entertainment', 'nice app', 'super and good app', 'tiktok warning and video views problem in my id manimeraj server nepal tiktok down', 'tiktok is nice app', 'need my tiktok open note']\n"
     ]
    }
   ],
   "source": [
    "data = []\n",
    "for i in range(len(data_words)):\n",
    "    data.append(detokenize(data_words[i]))\n",
    "print(data[:10])"
   ]
  },
  {
   "cell_type": "markdown",
   "id": "e2fc0605",
   "metadata": {},
   "source": [
    "## Small corpus to test spelling autocorrection function"
   ]
  },
  {
   "cell_type": "code",
   "execution_count": 14,
   "id": "1eb8b047",
   "metadata": {},
   "outputs": [
    {
     "name": "stdout",
     "output_type": "stream",
     "text": [
      "['great']\n",
      "['good']\n",
      "['good', 'app']\n",
      "['most', 'amazing', 'app']\n",
      "['full', 'entertainment']\n",
      "['nice', 'app']\n",
      "['superb', 'and', 'good', 'app']\n",
      "['tiktok', 'warning', 'and', 'video', 'views', 'problem', 'in', 'my', 'id', 'manimeraj', 'server', 'nepal', 'tiktok', 'down']\n",
      "['tiktok', 'is', 'nice', 'app']\n",
      "['need', 'my', 'tiktok', 'open', 'note']\n"
     ]
    }
   ],
   "source": [
    "from textblob import TextBlob, Word\n",
    "from spellchecker import SpellChecker\n",
    "import re\n",
    "\n",
    "spell = SpellChecker()\n",
    "\n",
    "text = [['great'], \n",
    "        ['gooood'], \n",
    "        ['good', 'appp'], \n",
    "        ['most', 'emazing', 'app'], \n",
    "        ['full', 'enterteinment'], \n",
    "        ['nicee', 'app'], \n",
    "        ['superbbb', 'and', 'good', 'app'], \n",
    "        ['tiktok', 'warnin', 'and', 'video', 'views', 'problem', 'in', 'my', 'id', 'manimeraj', 'server', 'nepal', \n",
    "        'tiktok', 'down'], \n",
    "        ['tiktok', 'is', 'nicee', 'app'], \n",
    "        ['need', 'my', 'tiktok', 'open', 'note']]\n",
    "\n",
    "for i in range(len(text)):\n",
    "    sentence = text[i]    \n",
    "    #use regex to reduce 3 consecutive letters to 2\n",
    "    for j in range(len(sentence)):\n",
    "        word = sentence[j]\n",
    "        reduced_word = re.sub(r'(.)\\1+', r'\\1\\1', word)\n",
    "        sentence[j] = reduced_word\n",
    "        if sentence[j]!= \"tiktok\" and len(spell.unknown([sentence[j]]))>0:\n",
    "            sentence[j] = correct_word_spelling(sentence[j])\n",
    "    print(sentence)"
   ]
  },
  {
   "cell_type": "code",
   "execution_count": 15,
   "id": "c7cf8b77",
   "metadata": {},
   "outputs": [
    {
     "name": "stdout",
     "output_type": "stream",
     "text": [
      "['great', 'good', 'good app', 'most amazing app', 'full entertainment', 'nice app', 'superb and good app', 'tiktok warning and video views problem in my id manimeraj server nepal tiktok down', 'tiktok is nice app', 'need my tiktok open note']\n"
     ]
    }
   ],
   "source": [
    "data = []\n",
    "for i in range(len(text)):\n",
    "    data.append(detokenize(text[i]))\n",
    "print(data[:10])"
   ]
  }
 ],
 "metadata": {
  "kernelspec": {
   "display_name": "Python 3 (ipykernel)",
   "language": "python",
   "name": "python3"
  },
  "language_info": {
   "codemirror_mode": {
    "name": "ipython",
    "version": 3
   },
   "file_extension": ".py",
   "mimetype": "text/x-python",
   "name": "python",
   "nbconvert_exporter": "python",
   "pygments_lexer": "ipython3",
   "version": "3.9.12"
  }
 },
 "nbformat": 4,
 "nbformat_minor": 5
}
